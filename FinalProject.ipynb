{
  "cells": [
    {
      "cell_type": "code",
      "execution_count": 338,
      "metadata": {
        "id": "sM8woG22iHXi"
      },
      "outputs": [],
      "source": [
        "import pandas as pd\n",
        "import numpy as np"
      ]
    },
    {
      "cell_type": "code",
      "execution_count": 339,
      "metadata": {
        "colab": {
          "base_uri": "https://localhost:8080/",
          "height": 241
        },
        "id": "mwU2DaXVifik",
        "outputId": "36006e70-e820-4297-819c-16f061b3e4e7"
      },
      "outputs": [
        {
          "output_type": "execute_result",
          "data": {
            "text/plain": [
              "   ID  Age of the customer ??What is the job of the customer??  MARITUL  \\\n",
              "0   1                   45                          management  married   \n",
              "1   2                   31                          technician   single   \n",
              "2   3                   53                         blue-collar  married   \n",
              "3   4                   32                            services   single   \n",
              "4   5                   29                              admin.   single   \n",
              "\n",
              "      EDUCTION default  BALANCE Does the customer have a housing loan ?? loan  \\\n",
              "0    secondary      no     1025                                      yes   no   \n",
              "1     tertiary      no      320                                       no   no   \n",
              "2      primary      no     -120                                       no   no   \n",
              "3  \"secondary\"      no      452                                      yes   no   \n",
              "4    secondary      no     -112                                      yes   no   \n",
              "\n",
              "     contact  //day //month  DURATION CAMPAIGN  pdays  previous poutcome  \\\n",
              "0   cellular     12     may     365.0        2     76         3  success   \n",
              "1   cellular      8     jun     210.0        1     -1         0  unknown   \n",
              "2  telephone     16     nov     185.0        3     92         2  failure   \n",
              "3   cellular     30    July     102.0        4     -1         0  unknown   \n",
              "4   cellular     14     aug     309.0        2     -1         0  unknown   \n",
              "\n",
              "  deposit   income  loan_amount  \n",
              "0     yes  50000.0      10000.0  \n",
              "1      no  35000.0       5000.0  \n",
              "2      no  40000.0       8000.0  \n",
              "3      no  45000.0      12000.0  \n",
              "4     yes  60000.0      15000.0  "
            ],
            "text/html": [
              "\n",
              "  <div id=\"df-e70a36b2-7eba-4cc7-92f9-28eb0355f00e\" class=\"colab-df-container\">\n",
              "    <div>\n",
              "<style scoped>\n",
              "    .dataframe tbody tr th:only-of-type {\n",
              "        vertical-align: middle;\n",
              "    }\n",
              "\n",
              "    .dataframe tbody tr th {\n",
              "        vertical-align: top;\n",
              "    }\n",
              "\n",
              "    .dataframe thead th {\n",
              "        text-align: right;\n",
              "    }\n",
              "</style>\n",
              "<table border=\"1\" class=\"dataframe\">\n",
              "  <thead>\n",
              "    <tr style=\"text-align: right;\">\n",
              "      <th></th>\n",
              "      <th>ID</th>\n",
              "      <th>Age of the customer</th>\n",
              "      <th>??What is the job of the customer??</th>\n",
              "      <th>MARITUL</th>\n",
              "      <th>EDUCTION</th>\n",
              "      <th>default</th>\n",
              "      <th>BALANCE</th>\n",
              "      <th>Does the customer have a housing loan ??</th>\n",
              "      <th>loan</th>\n",
              "      <th>contact</th>\n",
              "      <th>//day</th>\n",
              "      <th>//month</th>\n",
              "      <th>DURATION</th>\n",
              "      <th>CAMPAIGN</th>\n",
              "      <th>pdays</th>\n",
              "      <th>previous</th>\n",
              "      <th>poutcome</th>\n",
              "      <th>deposit</th>\n",
              "      <th>income</th>\n",
              "      <th>loan_amount</th>\n",
              "    </tr>\n",
              "  </thead>\n",
              "  <tbody>\n",
              "    <tr>\n",
              "      <th>0</th>\n",
              "      <td>1</td>\n",
              "      <td>45</td>\n",
              "      <td>management</td>\n",
              "      <td>married</td>\n",
              "      <td>secondary</td>\n",
              "      <td>no</td>\n",
              "      <td>1025</td>\n",
              "      <td>yes</td>\n",
              "      <td>no</td>\n",
              "      <td>cellular</td>\n",
              "      <td>12</td>\n",
              "      <td>may</td>\n",
              "      <td>365.0</td>\n",
              "      <td>2</td>\n",
              "      <td>76</td>\n",
              "      <td>3</td>\n",
              "      <td>success</td>\n",
              "      <td>yes</td>\n",
              "      <td>50000.0</td>\n",
              "      <td>10000.0</td>\n",
              "    </tr>\n",
              "    <tr>\n",
              "      <th>1</th>\n",
              "      <td>2</td>\n",
              "      <td>31</td>\n",
              "      <td>technician</td>\n",
              "      <td>single</td>\n",
              "      <td>tertiary</td>\n",
              "      <td>no</td>\n",
              "      <td>320</td>\n",
              "      <td>no</td>\n",
              "      <td>no</td>\n",
              "      <td>cellular</td>\n",
              "      <td>8</td>\n",
              "      <td>jun</td>\n",
              "      <td>210.0</td>\n",
              "      <td>1</td>\n",
              "      <td>-1</td>\n",
              "      <td>0</td>\n",
              "      <td>unknown</td>\n",
              "      <td>no</td>\n",
              "      <td>35000.0</td>\n",
              "      <td>5000.0</td>\n",
              "    </tr>\n",
              "    <tr>\n",
              "      <th>2</th>\n",
              "      <td>3</td>\n",
              "      <td>53</td>\n",
              "      <td>blue-collar</td>\n",
              "      <td>married</td>\n",
              "      <td>primary</td>\n",
              "      <td>no</td>\n",
              "      <td>-120</td>\n",
              "      <td>no</td>\n",
              "      <td>no</td>\n",
              "      <td>telephone</td>\n",
              "      <td>16</td>\n",
              "      <td>nov</td>\n",
              "      <td>185.0</td>\n",
              "      <td>3</td>\n",
              "      <td>92</td>\n",
              "      <td>2</td>\n",
              "      <td>failure</td>\n",
              "      <td>no</td>\n",
              "      <td>40000.0</td>\n",
              "      <td>8000.0</td>\n",
              "    </tr>\n",
              "    <tr>\n",
              "      <th>3</th>\n",
              "      <td>4</td>\n",
              "      <td>32</td>\n",
              "      <td>services</td>\n",
              "      <td>single</td>\n",
              "      <td>\"secondary\"</td>\n",
              "      <td>no</td>\n",
              "      <td>452</td>\n",
              "      <td>yes</td>\n",
              "      <td>no</td>\n",
              "      <td>cellular</td>\n",
              "      <td>30</td>\n",
              "      <td>July</td>\n",
              "      <td>102.0</td>\n",
              "      <td>4</td>\n",
              "      <td>-1</td>\n",
              "      <td>0</td>\n",
              "      <td>unknown</td>\n",
              "      <td>no</td>\n",
              "      <td>45000.0</td>\n",
              "      <td>12000.0</td>\n",
              "    </tr>\n",
              "    <tr>\n",
              "      <th>4</th>\n",
              "      <td>5</td>\n",
              "      <td>29</td>\n",
              "      <td>admin.</td>\n",
              "      <td>single</td>\n",
              "      <td>secondary</td>\n",
              "      <td>no</td>\n",
              "      <td>-112</td>\n",
              "      <td>yes</td>\n",
              "      <td>no</td>\n",
              "      <td>cellular</td>\n",
              "      <td>14</td>\n",
              "      <td>aug</td>\n",
              "      <td>309.0</td>\n",
              "      <td>2</td>\n",
              "      <td>-1</td>\n",
              "      <td>0</td>\n",
              "      <td>unknown</td>\n",
              "      <td>yes</td>\n",
              "      <td>60000.0</td>\n",
              "      <td>15000.0</td>\n",
              "    </tr>\n",
              "  </tbody>\n",
              "</table>\n",
              "</div>\n",
              "    <div class=\"colab-df-buttons\">\n",
              "\n",
              "  <div class=\"colab-df-container\">\n",
              "    <button class=\"colab-df-convert\" onclick=\"convertToInteractive('df-e70a36b2-7eba-4cc7-92f9-28eb0355f00e')\"\n",
              "            title=\"Convert this dataframe to an interactive table.\"\n",
              "            style=\"display:none;\">\n",
              "\n",
              "  <svg xmlns=\"http://www.w3.org/2000/svg\" height=\"24px\" viewBox=\"0 -960 960 960\">\n",
              "    <path d=\"M120-120v-720h720v720H120Zm60-500h600v-160H180v160Zm220 220h160v-160H400v160Zm0 220h160v-160H400v160ZM180-400h160v-160H180v160Zm440 0h160v-160H620v160ZM180-180h160v-160H180v160Zm440 0h160v-160H620v160Z\"/>\n",
              "  </svg>\n",
              "    </button>\n",
              "\n",
              "  <style>\n",
              "    .colab-df-container {\n",
              "      display:flex;\n",
              "      gap: 12px;\n",
              "    }\n",
              "\n",
              "    .colab-df-convert {\n",
              "      background-color: #E8F0FE;\n",
              "      border: none;\n",
              "      border-radius: 50%;\n",
              "      cursor: pointer;\n",
              "      display: none;\n",
              "      fill: #1967D2;\n",
              "      height: 32px;\n",
              "      padding: 0 0 0 0;\n",
              "      width: 32px;\n",
              "    }\n",
              "\n",
              "    .colab-df-convert:hover {\n",
              "      background-color: #E2EBFA;\n",
              "      box-shadow: 0px 1px 2px rgba(60, 64, 67, 0.3), 0px 1px 3px 1px rgba(60, 64, 67, 0.15);\n",
              "      fill: #174EA6;\n",
              "    }\n",
              "\n",
              "    .colab-df-buttons div {\n",
              "      margin-bottom: 4px;\n",
              "    }\n",
              "\n",
              "    [theme=dark] .colab-df-convert {\n",
              "      background-color: #3B4455;\n",
              "      fill: #D2E3FC;\n",
              "    }\n",
              "\n",
              "    [theme=dark] .colab-df-convert:hover {\n",
              "      background-color: #434B5C;\n",
              "      box-shadow: 0px 1px 3px 1px rgba(0, 0, 0, 0.15);\n",
              "      filter: drop-shadow(0px 1px 2px rgba(0, 0, 0, 0.3));\n",
              "      fill: #FFFFFF;\n",
              "    }\n",
              "  </style>\n",
              "\n",
              "    <script>\n",
              "      const buttonEl =\n",
              "        document.querySelector('#df-e70a36b2-7eba-4cc7-92f9-28eb0355f00e button.colab-df-convert');\n",
              "      buttonEl.style.display =\n",
              "        google.colab.kernel.accessAllowed ? 'block' : 'none';\n",
              "\n",
              "      async function convertToInteractive(key) {\n",
              "        const element = document.querySelector('#df-e70a36b2-7eba-4cc7-92f9-28eb0355f00e');\n",
              "        const dataTable =\n",
              "          await google.colab.kernel.invokeFunction('convertToInteractive',\n",
              "                                                    [key], {});\n",
              "        if (!dataTable) return;\n",
              "\n",
              "        const docLinkHtml = 'Like what you see? Visit the ' +\n",
              "          '<a target=\"_blank\" href=https://colab.research.google.com/notebooks/data_table.ipynb>data table notebook</a>'\n",
              "          + ' to learn more about interactive tables.';\n",
              "        element.innerHTML = '';\n",
              "        dataTable['output_type'] = 'display_data';\n",
              "        await google.colab.output.renderOutput(dataTable, element);\n",
              "        const docLink = document.createElement('div');\n",
              "        docLink.innerHTML = docLinkHtml;\n",
              "        element.appendChild(docLink);\n",
              "      }\n",
              "    </script>\n",
              "  </div>\n",
              "\n",
              "\n",
              "<div id=\"df-01d55243-3738-4633-a740-119adc6625e7\">\n",
              "  <button class=\"colab-df-quickchart\" onclick=\"quickchart('df-01d55243-3738-4633-a740-119adc6625e7')\"\n",
              "            title=\"Suggest charts\"\n",
              "            style=\"display:none;\">\n",
              "\n",
              "<svg xmlns=\"http://www.w3.org/2000/svg\" height=\"24px\"viewBox=\"0 0 24 24\"\n",
              "     width=\"24px\">\n",
              "    <g>\n",
              "        <path d=\"M19 3H5c-1.1 0-2 .9-2 2v14c0 1.1.9 2 2 2h14c1.1 0 2-.9 2-2V5c0-1.1-.9-2-2-2zM9 17H7v-7h2v7zm4 0h-2V7h2v10zm4 0h-2v-4h2v4z\"/>\n",
              "    </g>\n",
              "</svg>\n",
              "  </button>\n",
              "\n",
              "<style>\n",
              "  .colab-df-quickchart {\n",
              "      --bg-color: #E8F0FE;\n",
              "      --fill-color: #1967D2;\n",
              "      --hover-bg-color: #E2EBFA;\n",
              "      --hover-fill-color: #174EA6;\n",
              "      --disabled-fill-color: #AAA;\n",
              "      --disabled-bg-color: #DDD;\n",
              "  }\n",
              "\n",
              "  [theme=dark] .colab-df-quickchart {\n",
              "      --bg-color: #3B4455;\n",
              "      --fill-color: #D2E3FC;\n",
              "      --hover-bg-color: #434B5C;\n",
              "      --hover-fill-color: #FFFFFF;\n",
              "      --disabled-bg-color: #3B4455;\n",
              "      --disabled-fill-color: #666;\n",
              "  }\n",
              "\n",
              "  .colab-df-quickchart {\n",
              "    background-color: var(--bg-color);\n",
              "    border: none;\n",
              "    border-radius: 50%;\n",
              "    cursor: pointer;\n",
              "    display: none;\n",
              "    fill: var(--fill-color);\n",
              "    height: 32px;\n",
              "    padding: 0;\n",
              "    width: 32px;\n",
              "  }\n",
              "\n",
              "  .colab-df-quickchart:hover {\n",
              "    background-color: var(--hover-bg-color);\n",
              "    box-shadow: 0 1px 2px rgba(60, 64, 67, 0.3), 0 1px 3px 1px rgba(60, 64, 67, 0.15);\n",
              "    fill: var(--button-hover-fill-color);\n",
              "  }\n",
              "\n",
              "  .colab-df-quickchart-complete:disabled,\n",
              "  .colab-df-quickchart-complete:disabled:hover {\n",
              "    background-color: var(--disabled-bg-color);\n",
              "    fill: var(--disabled-fill-color);\n",
              "    box-shadow: none;\n",
              "  }\n",
              "\n",
              "  .colab-df-spinner {\n",
              "    border: 2px solid var(--fill-color);\n",
              "    border-color: transparent;\n",
              "    border-bottom-color: var(--fill-color);\n",
              "    animation:\n",
              "      spin 1s steps(1) infinite;\n",
              "  }\n",
              "\n",
              "  @keyframes spin {\n",
              "    0% {\n",
              "      border-color: transparent;\n",
              "      border-bottom-color: var(--fill-color);\n",
              "      border-left-color: var(--fill-color);\n",
              "    }\n",
              "    20% {\n",
              "      border-color: transparent;\n",
              "      border-left-color: var(--fill-color);\n",
              "      border-top-color: var(--fill-color);\n",
              "    }\n",
              "    30% {\n",
              "      border-color: transparent;\n",
              "      border-left-color: var(--fill-color);\n",
              "      border-top-color: var(--fill-color);\n",
              "      border-right-color: var(--fill-color);\n",
              "    }\n",
              "    40% {\n",
              "      border-color: transparent;\n",
              "      border-right-color: var(--fill-color);\n",
              "      border-top-color: var(--fill-color);\n",
              "    }\n",
              "    60% {\n",
              "      border-color: transparent;\n",
              "      border-right-color: var(--fill-color);\n",
              "    }\n",
              "    80% {\n",
              "      border-color: transparent;\n",
              "      border-right-color: var(--fill-color);\n",
              "      border-bottom-color: var(--fill-color);\n",
              "    }\n",
              "    90% {\n",
              "      border-color: transparent;\n",
              "      border-bottom-color: var(--fill-color);\n",
              "    }\n",
              "  }\n",
              "</style>\n",
              "\n",
              "  <script>\n",
              "    async function quickchart(key) {\n",
              "      const quickchartButtonEl =\n",
              "        document.querySelector('#' + key + ' button');\n",
              "      quickchartButtonEl.disabled = true;  // To prevent multiple clicks.\n",
              "      quickchartButtonEl.classList.add('colab-df-spinner');\n",
              "      try {\n",
              "        const charts = await google.colab.kernel.invokeFunction(\n",
              "            'suggestCharts', [key], {});\n",
              "      } catch (error) {\n",
              "        console.error('Error during call to suggestCharts:', error);\n",
              "      }\n",
              "      quickchartButtonEl.classList.remove('colab-df-spinner');\n",
              "      quickchartButtonEl.classList.add('colab-df-quickchart-complete');\n",
              "    }\n",
              "    (() => {\n",
              "      let quickchartButtonEl =\n",
              "        document.querySelector('#df-01d55243-3738-4633-a740-119adc6625e7 button');\n",
              "      quickchartButtonEl.style.display =\n",
              "        google.colab.kernel.accessAllowed ? 'block' : 'none';\n",
              "    })();\n",
              "  </script>\n",
              "</div>\n",
              "\n",
              "    </div>\n",
              "  </div>\n"
            ]
          },
          "metadata": {},
          "execution_count": 339
        }
      ],
      "source": [
        "df = pd.read_excel(\"Term_Deposit.xlsx\", header=2)\n",
        "df.head()"
      ]
    },
    {
      "cell_type": "code",
      "execution_count": 340,
      "metadata": {
        "colab": {
          "base_uri": "https://localhost:8080/"
        },
        "id": "eBOKf1a0hP4C",
        "outputId": "ad8647a0-1bf3-4b4d-c831-5f2c0125964c"
      },
      "outputs": [
        {
          "output_type": "stream",
          "name": "stdout",
          "text": [
            "<class 'pandas.core.frame.DataFrame'>\n",
            "RangeIndex: 115 entries, 0 to 114\n",
            "Data columns (total 20 columns):\n",
            " #   Column                                    Non-Null Count  Dtype  \n",
            "---  ------                                    --------------  -----  \n",
            " 0   ID                                        115 non-null    int64  \n",
            " 1   Age of the customer                       115 non-null    int64  \n",
            " 2   ??What is the job of the customer??       115 non-null    object \n",
            " 3   MARITUL                                   115 non-null    object \n",
            " 4   EDUCTION                                  115 non-null    object \n",
            " 5   default                                   115 non-null    object \n",
            " 6   BALANCE                                   115 non-null    int64  \n",
            " 7   Does the customer have a housing loan ??  115 non-null    object \n",
            " 8   loan                                      115 non-null    object \n",
            " 9   contact                                   115 non-null    object \n",
            " 10  //day                                     115 non-null    int64  \n",
            " 11  //month                                   115 non-null    object \n",
            " 12  DURATION                                  113 non-null    float64\n",
            " 13  CAMPAIGN                                  115 non-null    object \n",
            " 14  pdays                                     115 non-null    int64  \n",
            " 15  previous                                  115 non-null    int64  \n",
            " 16  poutcome                                  115 non-null    object \n",
            " 17  deposit                                   115 non-null    object \n",
            " 18  income                                    113 non-null    float64\n",
            " 19  loan_amount                               113 non-null    float64\n",
            "dtypes: float64(3), int64(6), object(11)\n",
            "memory usage: 18.1+ KB\n"
          ]
        }
      ],
      "source": [
        "df.info()"
      ]
    },
    {
      "cell_type": "code",
      "execution_count": 341,
      "metadata": {
        "colab": {
          "base_uri": "https://localhost:8080/",
          "height": 241
        },
        "id": "SFDCUfKffAxq",
        "outputId": "970ca0e0-3cf0-46e3-e5a6-3da7730b2122"
      },
      "outputs": [
        {
          "output_type": "execute_result",
          "data": {
            "text/plain": [
              "      ID  Age of the customer ??What is the job of the customer??   MARITUL  \\\n",
              "110  109                   42                         blue-collar   married   \n",
              "111  110                   51                          technician   married   \n",
              "112  111                   34                         blue-collar   married   \n",
              "113  112                   50                          management  divorced   \n",
              "114  113                   37                          technician   married   \n",
              "\n",
              "      EDUCTION default  BALANCE Does the customer have a housing loan ?? loan  \\\n",
              "110  secondary      no     -139                                      yes   No   \n",
              "111   tertiary      no     1231                                       no   No   \n",
              "112    primary      no      344                                      yes   No   \n",
              "113   tertiary      no      589                                       no   no   \n",
              "114   tertiary      no      155                                      yes   no   \n",
              "\n",
              "      contact  //day //month  DURATION CAMPAIGN  pdays  previous poutcome  \\\n",
              "110  cellular      6     aug     215.0        2     -1         0  unknown   \n",
              "111  cellular     29     jul     114.0        2     -1         0  unknown   \n",
              "112  cellular     14     may     172.0      3,0     -1         0  unknown   \n",
              "113  cellular      6     feb     189.0        2     -1         0  unknown   \n",
              "114  cellular     13     aug     238.0        2     -1         0  unknown   \n",
              "\n",
              "    deposit   income  loan_amount  \n",
              "110     yes  50000.0      10000.0  \n",
              "111     yes  75000.0      17000.0  \n",
              "112      no  40000.0       6000.0  \n",
              "113     yes  90000.0      23000.0  \n",
              "114     yes  60000.0      12000.0  "
            ],
            "text/html": [
              "\n",
              "  <div id=\"df-b5aa978a-5a5c-4fe2-9a79-9d81714ae681\" class=\"colab-df-container\">\n",
              "    <div>\n",
              "<style scoped>\n",
              "    .dataframe tbody tr th:only-of-type {\n",
              "        vertical-align: middle;\n",
              "    }\n",
              "\n",
              "    .dataframe tbody tr th {\n",
              "        vertical-align: top;\n",
              "    }\n",
              "\n",
              "    .dataframe thead th {\n",
              "        text-align: right;\n",
              "    }\n",
              "</style>\n",
              "<table border=\"1\" class=\"dataframe\">\n",
              "  <thead>\n",
              "    <tr style=\"text-align: right;\">\n",
              "      <th></th>\n",
              "      <th>ID</th>\n",
              "      <th>Age of the customer</th>\n",
              "      <th>??What is the job of the customer??</th>\n",
              "      <th>MARITUL</th>\n",
              "      <th>EDUCTION</th>\n",
              "      <th>default</th>\n",
              "      <th>BALANCE</th>\n",
              "      <th>Does the customer have a housing loan ??</th>\n",
              "      <th>loan</th>\n",
              "      <th>contact</th>\n",
              "      <th>//day</th>\n",
              "      <th>//month</th>\n",
              "      <th>DURATION</th>\n",
              "      <th>CAMPAIGN</th>\n",
              "      <th>pdays</th>\n",
              "      <th>previous</th>\n",
              "      <th>poutcome</th>\n",
              "      <th>deposit</th>\n",
              "      <th>income</th>\n",
              "      <th>loan_amount</th>\n",
              "    </tr>\n",
              "  </thead>\n",
              "  <tbody>\n",
              "    <tr>\n",
              "      <th>110</th>\n",
              "      <td>109</td>\n",
              "      <td>42</td>\n",
              "      <td>blue-collar</td>\n",
              "      <td>married</td>\n",
              "      <td>secondary</td>\n",
              "      <td>no</td>\n",
              "      <td>-139</td>\n",
              "      <td>yes</td>\n",
              "      <td>No</td>\n",
              "      <td>cellular</td>\n",
              "      <td>6</td>\n",
              "      <td>aug</td>\n",
              "      <td>215.0</td>\n",
              "      <td>2</td>\n",
              "      <td>-1</td>\n",
              "      <td>0</td>\n",
              "      <td>unknown</td>\n",
              "      <td>yes</td>\n",
              "      <td>50000.0</td>\n",
              "      <td>10000.0</td>\n",
              "    </tr>\n",
              "    <tr>\n",
              "      <th>111</th>\n",
              "      <td>110</td>\n",
              "      <td>51</td>\n",
              "      <td>technician</td>\n",
              "      <td>married</td>\n",
              "      <td>tertiary</td>\n",
              "      <td>no</td>\n",
              "      <td>1231</td>\n",
              "      <td>no</td>\n",
              "      <td>No</td>\n",
              "      <td>cellular</td>\n",
              "      <td>29</td>\n",
              "      <td>jul</td>\n",
              "      <td>114.0</td>\n",
              "      <td>2</td>\n",
              "      <td>-1</td>\n",
              "      <td>0</td>\n",
              "      <td>unknown</td>\n",
              "      <td>yes</td>\n",
              "      <td>75000.0</td>\n",
              "      <td>17000.0</td>\n",
              "    </tr>\n",
              "    <tr>\n",
              "      <th>112</th>\n",
              "      <td>111</td>\n",
              "      <td>34</td>\n",
              "      <td>blue-collar</td>\n",
              "      <td>married</td>\n",
              "      <td>primary</td>\n",
              "      <td>no</td>\n",
              "      <td>344</td>\n",
              "      <td>yes</td>\n",
              "      <td>No</td>\n",
              "      <td>cellular</td>\n",
              "      <td>14</td>\n",
              "      <td>may</td>\n",
              "      <td>172.0</td>\n",
              "      <td>3,0</td>\n",
              "      <td>-1</td>\n",
              "      <td>0</td>\n",
              "      <td>unknown</td>\n",
              "      <td>no</td>\n",
              "      <td>40000.0</td>\n",
              "      <td>6000.0</td>\n",
              "    </tr>\n",
              "    <tr>\n",
              "      <th>113</th>\n",
              "      <td>112</td>\n",
              "      <td>50</td>\n",
              "      <td>management</td>\n",
              "      <td>divorced</td>\n",
              "      <td>tertiary</td>\n",
              "      <td>no</td>\n",
              "      <td>589</td>\n",
              "      <td>no</td>\n",
              "      <td>no</td>\n",
              "      <td>cellular</td>\n",
              "      <td>6</td>\n",
              "      <td>feb</td>\n",
              "      <td>189.0</td>\n",
              "      <td>2</td>\n",
              "      <td>-1</td>\n",
              "      <td>0</td>\n",
              "      <td>unknown</td>\n",
              "      <td>yes</td>\n",
              "      <td>90000.0</td>\n",
              "      <td>23000.0</td>\n",
              "    </tr>\n",
              "    <tr>\n",
              "      <th>114</th>\n",
              "      <td>113</td>\n",
              "      <td>37</td>\n",
              "      <td>technician</td>\n",
              "      <td>married</td>\n",
              "      <td>tertiary</td>\n",
              "      <td>no</td>\n",
              "      <td>155</td>\n",
              "      <td>yes</td>\n",
              "      <td>no</td>\n",
              "      <td>cellular</td>\n",
              "      <td>13</td>\n",
              "      <td>aug</td>\n",
              "      <td>238.0</td>\n",
              "      <td>2</td>\n",
              "      <td>-1</td>\n",
              "      <td>0</td>\n",
              "      <td>unknown</td>\n",
              "      <td>yes</td>\n",
              "      <td>60000.0</td>\n",
              "      <td>12000.0</td>\n",
              "    </tr>\n",
              "  </tbody>\n",
              "</table>\n",
              "</div>\n",
              "    <div class=\"colab-df-buttons\">\n",
              "\n",
              "  <div class=\"colab-df-container\">\n",
              "    <button class=\"colab-df-convert\" onclick=\"convertToInteractive('df-b5aa978a-5a5c-4fe2-9a79-9d81714ae681')\"\n",
              "            title=\"Convert this dataframe to an interactive table.\"\n",
              "            style=\"display:none;\">\n",
              "\n",
              "  <svg xmlns=\"http://www.w3.org/2000/svg\" height=\"24px\" viewBox=\"0 -960 960 960\">\n",
              "    <path d=\"M120-120v-720h720v720H120Zm60-500h600v-160H180v160Zm220 220h160v-160H400v160Zm0 220h160v-160H400v160ZM180-400h160v-160H180v160Zm440 0h160v-160H620v160ZM180-180h160v-160H180v160Zm440 0h160v-160H620v160Z\"/>\n",
              "  </svg>\n",
              "    </button>\n",
              "\n",
              "  <style>\n",
              "    .colab-df-container {\n",
              "      display:flex;\n",
              "      gap: 12px;\n",
              "    }\n",
              "\n",
              "    .colab-df-convert {\n",
              "      background-color: #E8F0FE;\n",
              "      border: none;\n",
              "      border-radius: 50%;\n",
              "      cursor: pointer;\n",
              "      display: none;\n",
              "      fill: #1967D2;\n",
              "      height: 32px;\n",
              "      padding: 0 0 0 0;\n",
              "      width: 32px;\n",
              "    }\n",
              "\n",
              "    .colab-df-convert:hover {\n",
              "      background-color: #E2EBFA;\n",
              "      box-shadow: 0px 1px 2px rgba(60, 64, 67, 0.3), 0px 1px 3px 1px rgba(60, 64, 67, 0.15);\n",
              "      fill: #174EA6;\n",
              "    }\n",
              "\n",
              "    .colab-df-buttons div {\n",
              "      margin-bottom: 4px;\n",
              "    }\n",
              "\n",
              "    [theme=dark] .colab-df-convert {\n",
              "      background-color: #3B4455;\n",
              "      fill: #D2E3FC;\n",
              "    }\n",
              "\n",
              "    [theme=dark] .colab-df-convert:hover {\n",
              "      background-color: #434B5C;\n",
              "      box-shadow: 0px 1px 3px 1px rgba(0, 0, 0, 0.15);\n",
              "      filter: drop-shadow(0px 1px 2px rgba(0, 0, 0, 0.3));\n",
              "      fill: #FFFFFF;\n",
              "    }\n",
              "  </style>\n",
              "\n",
              "    <script>\n",
              "      const buttonEl =\n",
              "        document.querySelector('#df-b5aa978a-5a5c-4fe2-9a79-9d81714ae681 button.colab-df-convert');\n",
              "      buttonEl.style.display =\n",
              "        google.colab.kernel.accessAllowed ? 'block' : 'none';\n",
              "\n",
              "      async function convertToInteractive(key) {\n",
              "        const element = document.querySelector('#df-b5aa978a-5a5c-4fe2-9a79-9d81714ae681');\n",
              "        const dataTable =\n",
              "          await google.colab.kernel.invokeFunction('convertToInteractive',\n",
              "                                                    [key], {});\n",
              "        if (!dataTable) return;\n",
              "\n",
              "        const docLinkHtml = 'Like what you see? Visit the ' +\n",
              "          '<a target=\"_blank\" href=https://colab.research.google.com/notebooks/data_table.ipynb>data table notebook</a>'\n",
              "          + ' to learn more about interactive tables.';\n",
              "        element.innerHTML = '';\n",
              "        dataTable['output_type'] = 'display_data';\n",
              "        await google.colab.output.renderOutput(dataTable, element);\n",
              "        const docLink = document.createElement('div');\n",
              "        docLink.innerHTML = docLinkHtml;\n",
              "        element.appendChild(docLink);\n",
              "      }\n",
              "    </script>\n",
              "  </div>\n",
              "\n",
              "\n",
              "<div id=\"df-4524b37b-0f0f-469e-aefd-8f2a09eae3d1\">\n",
              "  <button class=\"colab-df-quickchart\" onclick=\"quickchart('df-4524b37b-0f0f-469e-aefd-8f2a09eae3d1')\"\n",
              "            title=\"Suggest charts\"\n",
              "            style=\"display:none;\">\n",
              "\n",
              "<svg xmlns=\"http://www.w3.org/2000/svg\" height=\"24px\"viewBox=\"0 0 24 24\"\n",
              "     width=\"24px\">\n",
              "    <g>\n",
              "        <path d=\"M19 3H5c-1.1 0-2 .9-2 2v14c0 1.1.9 2 2 2h14c1.1 0 2-.9 2-2V5c0-1.1-.9-2-2-2zM9 17H7v-7h2v7zm4 0h-2V7h2v10zm4 0h-2v-4h2v4z\"/>\n",
              "    </g>\n",
              "</svg>\n",
              "  </button>\n",
              "\n",
              "<style>\n",
              "  .colab-df-quickchart {\n",
              "      --bg-color: #E8F0FE;\n",
              "      --fill-color: #1967D2;\n",
              "      --hover-bg-color: #E2EBFA;\n",
              "      --hover-fill-color: #174EA6;\n",
              "      --disabled-fill-color: #AAA;\n",
              "      --disabled-bg-color: #DDD;\n",
              "  }\n",
              "\n",
              "  [theme=dark] .colab-df-quickchart {\n",
              "      --bg-color: #3B4455;\n",
              "      --fill-color: #D2E3FC;\n",
              "      --hover-bg-color: #434B5C;\n",
              "      --hover-fill-color: #FFFFFF;\n",
              "      --disabled-bg-color: #3B4455;\n",
              "      --disabled-fill-color: #666;\n",
              "  }\n",
              "\n",
              "  .colab-df-quickchart {\n",
              "    background-color: var(--bg-color);\n",
              "    border: none;\n",
              "    border-radius: 50%;\n",
              "    cursor: pointer;\n",
              "    display: none;\n",
              "    fill: var(--fill-color);\n",
              "    height: 32px;\n",
              "    padding: 0;\n",
              "    width: 32px;\n",
              "  }\n",
              "\n",
              "  .colab-df-quickchart:hover {\n",
              "    background-color: var(--hover-bg-color);\n",
              "    box-shadow: 0 1px 2px rgba(60, 64, 67, 0.3), 0 1px 3px 1px rgba(60, 64, 67, 0.15);\n",
              "    fill: var(--button-hover-fill-color);\n",
              "  }\n",
              "\n",
              "  .colab-df-quickchart-complete:disabled,\n",
              "  .colab-df-quickchart-complete:disabled:hover {\n",
              "    background-color: var(--disabled-bg-color);\n",
              "    fill: var(--disabled-fill-color);\n",
              "    box-shadow: none;\n",
              "  }\n",
              "\n",
              "  .colab-df-spinner {\n",
              "    border: 2px solid var(--fill-color);\n",
              "    border-color: transparent;\n",
              "    border-bottom-color: var(--fill-color);\n",
              "    animation:\n",
              "      spin 1s steps(1) infinite;\n",
              "  }\n",
              "\n",
              "  @keyframes spin {\n",
              "    0% {\n",
              "      border-color: transparent;\n",
              "      border-bottom-color: var(--fill-color);\n",
              "      border-left-color: var(--fill-color);\n",
              "    }\n",
              "    20% {\n",
              "      border-color: transparent;\n",
              "      border-left-color: var(--fill-color);\n",
              "      border-top-color: var(--fill-color);\n",
              "    }\n",
              "    30% {\n",
              "      border-color: transparent;\n",
              "      border-left-color: var(--fill-color);\n",
              "      border-top-color: var(--fill-color);\n",
              "      border-right-color: var(--fill-color);\n",
              "    }\n",
              "    40% {\n",
              "      border-color: transparent;\n",
              "      border-right-color: var(--fill-color);\n",
              "      border-top-color: var(--fill-color);\n",
              "    }\n",
              "    60% {\n",
              "      border-color: transparent;\n",
              "      border-right-color: var(--fill-color);\n",
              "    }\n",
              "    80% {\n",
              "      border-color: transparent;\n",
              "      border-right-color: var(--fill-color);\n",
              "      border-bottom-color: var(--fill-color);\n",
              "    }\n",
              "    90% {\n",
              "      border-color: transparent;\n",
              "      border-bottom-color: var(--fill-color);\n",
              "    }\n",
              "  }\n",
              "</style>\n",
              "\n",
              "  <script>\n",
              "    async function quickchart(key) {\n",
              "      const quickchartButtonEl =\n",
              "        document.querySelector('#' + key + ' button');\n",
              "      quickchartButtonEl.disabled = true;  // To prevent multiple clicks.\n",
              "      quickchartButtonEl.classList.add('colab-df-spinner');\n",
              "      try {\n",
              "        const charts = await google.colab.kernel.invokeFunction(\n",
              "            'suggestCharts', [key], {});\n",
              "      } catch (error) {\n",
              "        console.error('Error during call to suggestCharts:', error);\n",
              "      }\n",
              "      quickchartButtonEl.classList.remove('colab-df-spinner');\n",
              "      quickchartButtonEl.classList.add('colab-df-quickchart-complete');\n",
              "    }\n",
              "    (() => {\n",
              "      let quickchartButtonEl =\n",
              "        document.querySelector('#df-4524b37b-0f0f-469e-aefd-8f2a09eae3d1 button');\n",
              "      quickchartButtonEl.style.display =\n",
              "        google.colab.kernel.accessAllowed ? 'block' : 'none';\n",
              "    })();\n",
              "  </script>\n",
              "</div>\n",
              "\n",
              "    </div>\n",
              "  </div>\n"
            ]
          },
          "metadata": {},
          "execution_count": 341
        }
      ],
      "source": [
        "df.tail()"
      ]
    },
    {
      "cell_type": "code",
      "execution_count": 342,
      "metadata": {
        "id": "iKijovzseKXI"
      },
      "outputs": [],
      "source": [
        "df = df.drop_duplicates(keep='first')"
      ]
    },
    {
      "cell_type": "code",
      "execution_count": 343,
      "metadata": {
        "id": "tEEifMeGiqOO"
      },
      "outputs": [],
      "source": [
        "df = df.set_index(\"ID\")"
      ]
    },
    {
      "cell_type": "code",
      "execution_count": 344,
      "metadata": {
        "colab": {
          "base_uri": "https://localhost:8080/",
          "height": 272
        },
        "id": "XoViO437irzm",
        "outputId": "a4708533-027f-4db1-e7e3-c46d9c3b0019"
      },
      "outputs": [
        {
          "output_type": "execute_result",
          "data": {
            "text/plain": [
              "    Age of the customer ??What is the job of the customer??  MARITUL  \\\n",
              "ID                                                                     \n",
              "1                    45                          management  married   \n",
              "2                    31                          technician   single   \n",
              "3                    53                         blue-collar  married   \n",
              "4                    32                            services   single   \n",
              "5                    29                              admin.   single   \n",
              "\n",
              "       EDUCTION default  BALANCE Does the customer have a housing loan ??  \\\n",
              "ID                                                                          \n",
              "1     secondary      no     1025                                      yes   \n",
              "2      tertiary      no      320                                       no   \n",
              "3       primary      no     -120                                       no   \n",
              "4   \"secondary\"      no      452                                      yes   \n",
              "5     secondary      no     -112                                      yes   \n",
              "\n",
              "   loan    contact  //day //month  DURATION CAMPAIGN  pdays  previous  \\\n",
              "ID                                                                      \n",
              "1    no   cellular     12     may     365.0        2     76         3   \n",
              "2    no   cellular      8     jun     210.0        1     -1         0   \n",
              "3    no  telephone     16     nov     185.0        3     92         2   \n",
              "4    no   cellular     30    July     102.0        4     -1         0   \n",
              "5    no   cellular     14     aug     309.0        2     -1         0   \n",
              "\n",
              "   poutcome deposit   income  loan_amount  \n",
              "ID                                         \n",
              "1   success     yes  50000.0      10000.0  \n",
              "2   unknown      no  35000.0       5000.0  \n",
              "3   failure      no  40000.0       8000.0  \n",
              "4   unknown      no  45000.0      12000.0  \n",
              "5   unknown     yes  60000.0      15000.0  "
            ],
            "text/html": [
              "\n",
              "  <div id=\"df-b90b3786-f438-4472-b5b9-6193fb570f3d\" class=\"colab-df-container\">\n",
              "    <div>\n",
              "<style scoped>\n",
              "    .dataframe tbody tr th:only-of-type {\n",
              "        vertical-align: middle;\n",
              "    }\n",
              "\n",
              "    .dataframe tbody tr th {\n",
              "        vertical-align: top;\n",
              "    }\n",
              "\n",
              "    .dataframe thead th {\n",
              "        text-align: right;\n",
              "    }\n",
              "</style>\n",
              "<table border=\"1\" class=\"dataframe\">\n",
              "  <thead>\n",
              "    <tr style=\"text-align: right;\">\n",
              "      <th></th>\n",
              "      <th>Age of the customer</th>\n",
              "      <th>??What is the job of the customer??</th>\n",
              "      <th>MARITUL</th>\n",
              "      <th>EDUCTION</th>\n",
              "      <th>default</th>\n",
              "      <th>BALANCE</th>\n",
              "      <th>Does the customer have a housing loan ??</th>\n",
              "      <th>loan</th>\n",
              "      <th>contact</th>\n",
              "      <th>//day</th>\n",
              "      <th>//month</th>\n",
              "      <th>DURATION</th>\n",
              "      <th>CAMPAIGN</th>\n",
              "      <th>pdays</th>\n",
              "      <th>previous</th>\n",
              "      <th>poutcome</th>\n",
              "      <th>deposit</th>\n",
              "      <th>income</th>\n",
              "      <th>loan_amount</th>\n",
              "    </tr>\n",
              "    <tr>\n",
              "      <th>ID</th>\n",
              "      <th></th>\n",
              "      <th></th>\n",
              "      <th></th>\n",
              "      <th></th>\n",
              "      <th></th>\n",
              "      <th></th>\n",
              "      <th></th>\n",
              "      <th></th>\n",
              "      <th></th>\n",
              "      <th></th>\n",
              "      <th></th>\n",
              "      <th></th>\n",
              "      <th></th>\n",
              "      <th></th>\n",
              "      <th></th>\n",
              "      <th></th>\n",
              "      <th></th>\n",
              "      <th></th>\n",
              "      <th></th>\n",
              "    </tr>\n",
              "  </thead>\n",
              "  <tbody>\n",
              "    <tr>\n",
              "      <th>1</th>\n",
              "      <td>45</td>\n",
              "      <td>management</td>\n",
              "      <td>married</td>\n",
              "      <td>secondary</td>\n",
              "      <td>no</td>\n",
              "      <td>1025</td>\n",
              "      <td>yes</td>\n",
              "      <td>no</td>\n",
              "      <td>cellular</td>\n",
              "      <td>12</td>\n",
              "      <td>may</td>\n",
              "      <td>365.0</td>\n",
              "      <td>2</td>\n",
              "      <td>76</td>\n",
              "      <td>3</td>\n",
              "      <td>success</td>\n",
              "      <td>yes</td>\n",
              "      <td>50000.0</td>\n",
              "      <td>10000.0</td>\n",
              "    </tr>\n",
              "    <tr>\n",
              "      <th>2</th>\n",
              "      <td>31</td>\n",
              "      <td>technician</td>\n",
              "      <td>single</td>\n",
              "      <td>tertiary</td>\n",
              "      <td>no</td>\n",
              "      <td>320</td>\n",
              "      <td>no</td>\n",
              "      <td>no</td>\n",
              "      <td>cellular</td>\n",
              "      <td>8</td>\n",
              "      <td>jun</td>\n",
              "      <td>210.0</td>\n",
              "      <td>1</td>\n",
              "      <td>-1</td>\n",
              "      <td>0</td>\n",
              "      <td>unknown</td>\n",
              "      <td>no</td>\n",
              "      <td>35000.0</td>\n",
              "      <td>5000.0</td>\n",
              "    </tr>\n",
              "    <tr>\n",
              "      <th>3</th>\n",
              "      <td>53</td>\n",
              "      <td>blue-collar</td>\n",
              "      <td>married</td>\n",
              "      <td>primary</td>\n",
              "      <td>no</td>\n",
              "      <td>-120</td>\n",
              "      <td>no</td>\n",
              "      <td>no</td>\n",
              "      <td>telephone</td>\n",
              "      <td>16</td>\n",
              "      <td>nov</td>\n",
              "      <td>185.0</td>\n",
              "      <td>3</td>\n",
              "      <td>92</td>\n",
              "      <td>2</td>\n",
              "      <td>failure</td>\n",
              "      <td>no</td>\n",
              "      <td>40000.0</td>\n",
              "      <td>8000.0</td>\n",
              "    </tr>\n",
              "    <tr>\n",
              "      <th>4</th>\n",
              "      <td>32</td>\n",
              "      <td>services</td>\n",
              "      <td>single</td>\n",
              "      <td>\"secondary\"</td>\n",
              "      <td>no</td>\n",
              "      <td>452</td>\n",
              "      <td>yes</td>\n",
              "      <td>no</td>\n",
              "      <td>cellular</td>\n",
              "      <td>30</td>\n",
              "      <td>July</td>\n",
              "      <td>102.0</td>\n",
              "      <td>4</td>\n",
              "      <td>-1</td>\n",
              "      <td>0</td>\n",
              "      <td>unknown</td>\n",
              "      <td>no</td>\n",
              "      <td>45000.0</td>\n",
              "      <td>12000.0</td>\n",
              "    </tr>\n",
              "    <tr>\n",
              "      <th>5</th>\n",
              "      <td>29</td>\n",
              "      <td>admin.</td>\n",
              "      <td>single</td>\n",
              "      <td>secondary</td>\n",
              "      <td>no</td>\n",
              "      <td>-112</td>\n",
              "      <td>yes</td>\n",
              "      <td>no</td>\n",
              "      <td>cellular</td>\n",
              "      <td>14</td>\n",
              "      <td>aug</td>\n",
              "      <td>309.0</td>\n",
              "      <td>2</td>\n",
              "      <td>-1</td>\n",
              "      <td>0</td>\n",
              "      <td>unknown</td>\n",
              "      <td>yes</td>\n",
              "      <td>60000.0</td>\n",
              "      <td>15000.0</td>\n",
              "    </tr>\n",
              "  </tbody>\n",
              "</table>\n",
              "</div>\n",
              "    <div class=\"colab-df-buttons\">\n",
              "\n",
              "  <div class=\"colab-df-container\">\n",
              "    <button class=\"colab-df-convert\" onclick=\"convertToInteractive('df-b90b3786-f438-4472-b5b9-6193fb570f3d')\"\n",
              "            title=\"Convert this dataframe to an interactive table.\"\n",
              "            style=\"display:none;\">\n",
              "\n",
              "  <svg xmlns=\"http://www.w3.org/2000/svg\" height=\"24px\" viewBox=\"0 -960 960 960\">\n",
              "    <path d=\"M120-120v-720h720v720H120Zm60-500h600v-160H180v160Zm220 220h160v-160H400v160Zm0 220h160v-160H400v160ZM180-400h160v-160H180v160Zm440 0h160v-160H620v160ZM180-180h160v-160H180v160Zm440 0h160v-160H620v160Z\"/>\n",
              "  </svg>\n",
              "    </button>\n",
              "\n",
              "  <style>\n",
              "    .colab-df-container {\n",
              "      display:flex;\n",
              "      gap: 12px;\n",
              "    }\n",
              "\n",
              "    .colab-df-convert {\n",
              "      background-color: #E8F0FE;\n",
              "      border: none;\n",
              "      border-radius: 50%;\n",
              "      cursor: pointer;\n",
              "      display: none;\n",
              "      fill: #1967D2;\n",
              "      height: 32px;\n",
              "      padding: 0 0 0 0;\n",
              "      width: 32px;\n",
              "    }\n",
              "\n",
              "    .colab-df-convert:hover {\n",
              "      background-color: #E2EBFA;\n",
              "      box-shadow: 0px 1px 2px rgba(60, 64, 67, 0.3), 0px 1px 3px 1px rgba(60, 64, 67, 0.15);\n",
              "      fill: #174EA6;\n",
              "    }\n",
              "\n",
              "    .colab-df-buttons div {\n",
              "      margin-bottom: 4px;\n",
              "    }\n",
              "\n",
              "    [theme=dark] .colab-df-convert {\n",
              "      background-color: #3B4455;\n",
              "      fill: #D2E3FC;\n",
              "    }\n",
              "\n",
              "    [theme=dark] .colab-df-convert:hover {\n",
              "      background-color: #434B5C;\n",
              "      box-shadow: 0px 1px 3px 1px rgba(0, 0, 0, 0.15);\n",
              "      filter: drop-shadow(0px 1px 2px rgba(0, 0, 0, 0.3));\n",
              "      fill: #FFFFFF;\n",
              "    }\n",
              "  </style>\n",
              "\n",
              "    <script>\n",
              "      const buttonEl =\n",
              "        document.querySelector('#df-b90b3786-f438-4472-b5b9-6193fb570f3d button.colab-df-convert');\n",
              "      buttonEl.style.display =\n",
              "        google.colab.kernel.accessAllowed ? 'block' : 'none';\n",
              "\n",
              "      async function convertToInteractive(key) {\n",
              "        const element = document.querySelector('#df-b90b3786-f438-4472-b5b9-6193fb570f3d');\n",
              "        const dataTable =\n",
              "          await google.colab.kernel.invokeFunction('convertToInteractive',\n",
              "                                                    [key], {});\n",
              "        if (!dataTable) return;\n",
              "\n",
              "        const docLinkHtml = 'Like what you see? Visit the ' +\n",
              "          '<a target=\"_blank\" href=https://colab.research.google.com/notebooks/data_table.ipynb>data table notebook</a>'\n",
              "          + ' to learn more about interactive tables.';\n",
              "        element.innerHTML = '';\n",
              "        dataTable['output_type'] = 'display_data';\n",
              "        await google.colab.output.renderOutput(dataTable, element);\n",
              "        const docLink = document.createElement('div');\n",
              "        docLink.innerHTML = docLinkHtml;\n",
              "        element.appendChild(docLink);\n",
              "      }\n",
              "    </script>\n",
              "  </div>\n",
              "\n",
              "\n",
              "<div id=\"df-e93380bf-0566-416f-b14c-2078b402bc00\">\n",
              "  <button class=\"colab-df-quickchart\" onclick=\"quickchart('df-e93380bf-0566-416f-b14c-2078b402bc00')\"\n",
              "            title=\"Suggest charts\"\n",
              "            style=\"display:none;\">\n",
              "\n",
              "<svg xmlns=\"http://www.w3.org/2000/svg\" height=\"24px\"viewBox=\"0 0 24 24\"\n",
              "     width=\"24px\">\n",
              "    <g>\n",
              "        <path d=\"M19 3H5c-1.1 0-2 .9-2 2v14c0 1.1.9 2 2 2h14c1.1 0 2-.9 2-2V5c0-1.1-.9-2-2-2zM9 17H7v-7h2v7zm4 0h-2V7h2v10zm4 0h-2v-4h2v4z\"/>\n",
              "    </g>\n",
              "</svg>\n",
              "  </button>\n",
              "\n",
              "<style>\n",
              "  .colab-df-quickchart {\n",
              "      --bg-color: #E8F0FE;\n",
              "      --fill-color: #1967D2;\n",
              "      --hover-bg-color: #E2EBFA;\n",
              "      --hover-fill-color: #174EA6;\n",
              "      --disabled-fill-color: #AAA;\n",
              "      --disabled-bg-color: #DDD;\n",
              "  }\n",
              "\n",
              "  [theme=dark] .colab-df-quickchart {\n",
              "      --bg-color: #3B4455;\n",
              "      --fill-color: #D2E3FC;\n",
              "      --hover-bg-color: #434B5C;\n",
              "      --hover-fill-color: #FFFFFF;\n",
              "      --disabled-bg-color: #3B4455;\n",
              "      --disabled-fill-color: #666;\n",
              "  }\n",
              "\n",
              "  .colab-df-quickchart {\n",
              "    background-color: var(--bg-color);\n",
              "    border: none;\n",
              "    border-radius: 50%;\n",
              "    cursor: pointer;\n",
              "    display: none;\n",
              "    fill: var(--fill-color);\n",
              "    height: 32px;\n",
              "    padding: 0;\n",
              "    width: 32px;\n",
              "  }\n",
              "\n",
              "  .colab-df-quickchart:hover {\n",
              "    background-color: var(--hover-bg-color);\n",
              "    box-shadow: 0 1px 2px rgba(60, 64, 67, 0.3), 0 1px 3px 1px rgba(60, 64, 67, 0.15);\n",
              "    fill: var(--button-hover-fill-color);\n",
              "  }\n",
              "\n",
              "  .colab-df-quickchart-complete:disabled,\n",
              "  .colab-df-quickchart-complete:disabled:hover {\n",
              "    background-color: var(--disabled-bg-color);\n",
              "    fill: var(--disabled-fill-color);\n",
              "    box-shadow: none;\n",
              "  }\n",
              "\n",
              "  .colab-df-spinner {\n",
              "    border: 2px solid var(--fill-color);\n",
              "    border-color: transparent;\n",
              "    border-bottom-color: var(--fill-color);\n",
              "    animation:\n",
              "      spin 1s steps(1) infinite;\n",
              "  }\n",
              "\n",
              "  @keyframes spin {\n",
              "    0% {\n",
              "      border-color: transparent;\n",
              "      border-bottom-color: var(--fill-color);\n",
              "      border-left-color: var(--fill-color);\n",
              "    }\n",
              "    20% {\n",
              "      border-color: transparent;\n",
              "      border-left-color: var(--fill-color);\n",
              "      border-top-color: var(--fill-color);\n",
              "    }\n",
              "    30% {\n",
              "      border-color: transparent;\n",
              "      border-left-color: var(--fill-color);\n",
              "      border-top-color: var(--fill-color);\n",
              "      border-right-color: var(--fill-color);\n",
              "    }\n",
              "    40% {\n",
              "      border-color: transparent;\n",
              "      border-right-color: var(--fill-color);\n",
              "      border-top-color: var(--fill-color);\n",
              "    }\n",
              "    60% {\n",
              "      border-color: transparent;\n",
              "      border-right-color: var(--fill-color);\n",
              "    }\n",
              "    80% {\n",
              "      border-color: transparent;\n",
              "      border-right-color: var(--fill-color);\n",
              "      border-bottom-color: var(--fill-color);\n",
              "    }\n",
              "    90% {\n",
              "      border-color: transparent;\n",
              "      border-bottom-color: var(--fill-color);\n",
              "    }\n",
              "  }\n",
              "</style>\n",
              "\n",
              "  <script>\n",
              "    async function quickchart(key) {\n",
              "      const quickchartButtonEl =\n",
              "        document.querySelector('#' + key + ' button');\n",
              "      quickchartButtonEl.disabled = true;  // To prevent multiple clicks.\n",
              "      quickchartButtonEl.classList.add('colab-df-spinner');\n",
              "      try {\n",
              "        const charts = await google.colab.kernel.invokeFunction(\n",
              "            'suggestCharts', [key], {});\n",
              "      } catch (error) {\n",
              "        console.error('Error during call to suggestCharts:', error);\n",
              "      }\n",
              "      quickchartButtonEl.classList.remove('colab-df-spinner');\n",
              "      quickchartButtonEl.classList.add('colab-df-quickchart-complete');\n",
              "    }\n",
              "    (() => {\n",
              "      let quickchartButtonEl =\n",
              "        document.querySelector('#df-e93380bf-0566-416f-b14c-2078b402bc00 button');\n",
              "      quickchartButtonEl.style.display =\n",
              "        google.colab.kernel.accessAllowed ? 'block' : 'none';\n",
              "    })();\n",
              "  </script>\n",
              "</div>\n",
              "\n",
              "    </div>\n",
              "  </div>\n"
            ]
          },
          "metadata": {},
          "execution_count": 344
        }
      ],
      "source": [
        "df.head()"
      ]
    },
    {
      "cell_type": "code",
      "execution_count": 390,
      "metadata": {
        "colab": {
          "base_uri": "https://localhost:8080/",
          "height": 512
        },
        "id": "NGxRdCeDl8hd",
        "outputId": "7d3f77bf-cd7d-4b06-d842-bed889647a7b"
      },
      "outputs": [
        {
          "output_type": "error",
          "ename": "KeyError",
          "evalue": "ignored",
          "traceback": [
            "\u001b[0;31m---------------------------------------------------------------------------\u001b[0m",
            "\u001b[0;31mKeyError\u001b[0m                                  Traceback (most recent call last)",
            "\u001b[0;32m/usr/local/lib/python3.10/dist-packages/pandas/core/indexes/base.py\u001b[0m in \u001b[0;36mget_loc\u001b[0;34m(self, key, method, tolerance)\u001b[0m\n\u001b[1;32m   3801\u001b[0m             \u001b[0;32mtry\u001b[0m\u001b[0;34m:\u001b[0m\u001b[0;34m\u001b[0m\u001b[0;34m\u001b[0m\u001b[0m\n\u001b[0;32m-> 3802\u001b[0;31m                 \u001b[0;32mreturn\u001b[0m \u001b[0mself\u001b[0m\u001b[0;34m.\u001b[0m\u001b[0m_engine\u001b[0m\u001b[0;34m.\u001b[0m\u001b[0mget_loc\u001b[0m\u001b[0;34m(\u001b[0m\u001b[0mcasted_key\u001b[0m\u001b[0;34m)\u001b[0m\u001b[0;34m\u001b[0m\u001b[0;34m\u001b[0m\u001b[0m\n\u001b[0m\u001b[1;32m   3803\u001b[0m             \u001b[0;32mexcept\u001b[0m \u001b[0mKeyError\u001b[0m \u001b[0;32mas\u001b[0m \u001b[0merr\u001b[0m\u001b[0;34m:\u001b[0m\u001b[0;34m\u001b[0m\u001b[0;34m\u001b[0m\u001b[0m\n",
            "\u001b[0;32m/usr/local/lib/python3.10/dist-packages/pandas/_libs/index.pyx\u001b[0m in \u001b[0;36mpandas._libs.index.IndexEngine.get_loc\u001b[0;34m()\u001b[0m\n",
            "\u001b[0;32m/usr/local/lib/python3.10/dist-packages/pandas/_libs/index.pyx\u001b[0m in \u001b[0;36mpandas._libs.index.IndexEngine.get_loc\u001b[0;34m()\u001b[0m\n",
            "\u001b[0;32mpandas/_libs/hashtable_class_helper.pxi\u001b[0m in \u001b[0;36mpandas._libs.hashtable.PyObjectHashTable.get_item\u001b[0;34m()\u001b[0m\n",
            "\u001b[0;32mpandas/_libs/hashtable_class_helper.pxi\u001b[0m in \u001b[0;36mpandas._libs.hashtable.PyObjectHashTable.get_item\u001b[0;34m()\u001b[0m\n",
            "\u001b[0;31mKeyError\u001b[0m: 'Age of the customer'",
            "\nThe above exception was the direct cause of the following exception:\n",
            "\u001b[0;31mKeyError\u001b[0m                                  Traceback (most recent call last)",
            "\u001b[0;32m<ipython-input-390-00e9e5b3cc23>\u001b[0m in \u001b[0;36m<cell line: 1>\u001b[0;34m()\u001b[0m\n\u001b[0;32m----> 1\u001b[0;31m \u001b[0mdf\u001b[0m\u001b[0;34m[\u001b[0m\u001b[0mdf\u001b[0m\u001b[0;34m[\u001b[0m\u001b[0;34m'Age of the customer'\u001b[0m\u001b[0;34m]\u001b[0m\u001b[0;34m<\u001b[0m\u001b[0;36m0\u001b[0m\u001b[0;34m]\u001b[0m\u001b[0;34m\u001b[0m\u001b[0;34m\u001b[0m\u001b[0m\n\u001b[0m",
            "\u001b[0;32m/usr/local/lib/python3.10/dist-packages/pandas/core/frame.py\u001b[0m in \u001b[0;36m__getitem__\u001b[0;34m(self, key)\u001b[0m\n\u001b[1;32m   3805\u001b[0m             \u001b[0;32mif\u001b[0m \u001b[0mself\u001b[0m\u001b[0;34m.\u001b[0m\u001b[0mcolumns\u001b[0m\u001b[0;34m.\u001b[0m\u001b[0mnlevels\u001b[0m \u001b[0;34m>\u001b[0m \u001b[0;36m1\u001b[0m\u001b[0;34m:\u001b[0m\u001b[0;34m\u001b[0m\u001b[0;34m\u001b[0m\u001b[0m\n\u001b[1;32m   3806\u001b[0m                 \u001b[0;32mreturn\u001b[0m \u001b[0mself\u001b[0m\u001b[0;34m.\u001b[0m\u001b[0m_getitem_multilevel\u001b[0m\u001b[0;34m(\u001b[0m\u001b[0mkey\u001b[0m\u001b[0;34m)\u001b[0m\u001b[0;34m\u001b[0m\u001b[0;34m\u001b[0m\u001b[0m\n\u001b[0;32m-> 3807\u001b[0;31m             \u001b[0mindexer\u001b[0m \u001b[0;34m=\u001b[0m \u001b[0mself\u001b[0m\u001b[0;34m.\u001b[0m\u001b[0mcolumns\u001b[0m\u001b[0;34m.\u001b[0m\u001b[0mget_loc\u001b[0m\u001b[0;34m(\u001b[0m\u001b[0mkey\u001b[0m\u001b[0;34m)\u001b[0m\u001b[0;34m\u001b[0m\u001b[0;34m\u001b[0m\u001b[0m\n\u001b[0m\u001b[1;32m   3808\u001b[0m             \u001b[0;32mif\u001b[0m \u001b[0mis_integer\u001b[0m\u001b[0;34m(\u001b[0m\u001b[0mindexer\u001b[0m\u001b[0;34m)\u001b[0m\u001b[0;34m:\u001b[0m\u001b[0;34m\u001b[0m\u001b[0;34m\u001b[0m\u001b[0m\n\u001b[1;32m   3809\u001b[0m                 \u001b[0mindexer\u001b[0m \u001b[0;34m=\u001b[0m \u001b[0;34m[\u001b[0m\u001b[0mindexer\u001b[0m\u001b[0;34m]\u001b[0m\u001b[0;34m\u001b[0m\u001b[0;34m\u001b[0m\u001b[0m\n",
            "\u001b[0;32m/usr/local/lib/python3.10/dist-packages/pandas/core/indexes/base.py\u001b[0m in \u001b[0;36mget_loc\u001b[0;34m(self, key, method, tolerance)\u001b[0m\n\u001b[1;32m   3802\u001b[0m                 \u001b[0;32mreturn\u001b[0m \u001b[0mself\u001b[0m\u001b[0;34m.\u001b[0m\u001b[0m_engine\u001b[0m\u001b[0;34m.\u001b[0m\u001b[0mget_loc\u001b[0m\u001b[0;34m(\u001b[0m\u001b[0mcasted_key\u001b[0m\u001b[0;34m)\u001b[0m\u001b[0;34m\u001b[0m\u001b[0;34m\u001b[0m\u001b[0m\n\u001b[1;32m   3803\u001b[0m             \u001b[0;32mexcept\u001b[0m \u001b[0mKeyError\u001b[0m \u001b[0;32mas\u001b[0m \u001b[0merr\u001b[0m\u001b[0;34m:\u001b[0m\u001b[0;34m\u001b[0m\u001b[0;34m\u001b[0m\u001b[0m\n\u001b[0;32m-> 3804\u001b[0;31m                 \u001b[0;32mraise\u001b[0m \u001b[0mKeyError\u001b[0m\u001b[0;34m(\u001b[0m\u001b[0mkey\u001b[0m\u001b[0;34m)\u001b[0m \u001b[0;32mfrom\u001b[0m \u001b[0merr\u001b[0m\u001b[0;34m\u001b[0m\u001b[0;34m\u001b[0m\u001b[0m\n\u001b[0m\u001b[1;32m   3805\u001b[0m             \u001b[0;32mexcept\u001b[0m \u001b[0mTypeError\u001b[0m\u001b[0;34m:\u001b[0m\u001b[0;34m\u001b[0m\u001b[0;34m\u001b[0m\u001b[0m\n\u001b[1;32m   3806\u001b[0m                 \u001b[0;31m# If we have a listlike key, _check_indexing_error will raise\u001b[0m\u001b[0;34m\u001b[0m\u001b[0;34m\u001b[0m\u001b[0m\n",
            "\u001b[0;31mKeyError\u001b[0m: 'Age of the customer'"
          ]
        }
      ],
      "source": [
        "df[df['Age of the customer']<0]"
      ]
    },
    {
      "cell_type": "code",
      "execution_count": 346,
      "metadata": {
        "colab": {
          "base_uri": "https://localhost:8080/"
        },
        "id": "3Bwh18BDmk67",
        "outputId": "2ef0697d-3e96-4ad4-ee3d-0ec9434aa989"
      },
      "outputs": [
        {
          "output_type": "stream",
          "name": "stderr",
          "text": [
            "<ipython-input-346-5b7bffe7d8c5>:1: SettingWithCopyWarning: \n",
            "A value is trying to be set on a copy of a slice from a DataFrame\n",
            "\n",
            "See the caveats in the documentation: https://pandas.pydata.org/pandas-docs/stable/user_guide/indexing.html#returning-a-view-versus-a-copy\n",
            "  df['Age of the customer'].loc[df['Age of the customer'] == -38] = 38\n",
            "<ipython-input-346-5b7bffe7d8c5>:2: SettingWithCopyWarning: \n",
            "A value is trying to be set on a copy of a slice from a DataFrame\n",
            "\n",
            "See the caveats in the documentation: https://pandas.pydata.org/pandas-docs/stable/user_guide/indexing.html#returning-a-view-versus-a-copy\n",
            "  df['Age of the customer'].loc[df['Age of the customer'] == -36] = 36\n"
          ]
        },
        {
          "output_type": "execute_result",
          "data": {
            "text/plain": [
              "ID\n",
              "1      45\n",
              "2      31\n",
              "3      53\n",
              "4      32\n",
              "5      29\n",
              "       ..\n",
              "109    42\n",
              "110    51\n",
              "111    34\n",
              "112    50\n",
              "113    37\n",
              "Name: Age of the customer, Length: 113, dtype: int64"
            ]
          },
          "metadata": {},
          "execution_count": 346
        }
      ],
      "source": [
        "df['Age of the customer'].loc[df['Age of the customer'] == -38] = 38\n",
        "df['Age of the customer'].loc[df['Age of the customer'] == -36] = 36\n",
        "df['Age of the customer']"
      ]
    },
    {
      "cell_type": "code",
      "execution_count": 347,
      "metadata": {
        "id": "CeTbUh6koS5S"
      },
      "outputs": [],
      "source": [
        "df.rename(columns = {'??What is the job of the customer??': 'Customers Job'},inplace=True)\n",
        "df.rename(columns = {'Does the customer have a housing loan ??': 'House Loan'},inplace=True)\n",
        "df.rename(columns = {'Age of the customer': 'Customers Age'},inplace=True)\n",
        "df.rename(columns = {'default': 'Credit Card'},inplace=True)\n",
        "df.rename(columns = {'BALANCE': 'Balance'},inplace=True)\n",
        "df.rename(columns = {'loan': 'Personal Loan'},inplace=True)\n",
        "df.rename(columns = {'contact': 'Contact Type'},inplace=True)\n",
        "df.rename(columns = {'MARITUL': 'Marital Status'},inplace=True)\n",
        "df.rename(columns = {'EDUCTION': 'Education Level'},inplace=True)\n",
        "df= df.rename(columns={\"//day\":\"Day\",\"//month\":\"Month\",\"DURATION\":\"Duration\",\"CAMPAIGN\":\"Ncampaign\",\"pdays\":\"Pdays\",\"previous\":\"Nprevious\",\"poutcome\":\"Poutcome\",\"deposit\":\"Deposit\",\"income\":\"Income\",\"loan_amount\":\"Loan_amount\"})"
      ]
    },
    {
      "cell_type": "code",
      "execution_count": 348,
      "metadata": {
        "colab": {
          "base_uri": "https://localhost:8080/"
        },
        "id": "vkkjwX5XqDJS",
        "outputId": "bc77de83-91cc-4972-8622-d9c0edfc18e6"
      },
      "outputs": [
        {
          "output_type": "stream",
          "name": "stdout",
          "text": [
            "<class 'pandas.core.frame.DataFrame'>\n",
            "Int64Index: 113 entries, 1 to 113\n",
            "Data columns (total 19 columns):\n",
            " #   Column           Non-Null Count  Dtype  \n",
            "---  ------           --------------  -----  \n",
            " 0   Customers Age    113 non-null    int64  \n",
            " 1   Customers Job    113 non-null    object \n",
            " 2   Marital Status   113 non-null    object \n",
            " 3   Education Level  113 non-null    object \n",
            " 4   Credit Card      113 non-null    object \n",
            " 5   Balance          113 non-null    int64  \n",
            " 6   House Loan       113 non-null    object \n",
            " 7   Personal Loan    113 non-null    object \n",
            " 8   Contact Type     113 non-null    object \n",
            " 9   Day              113 non-null    int64  \n",
            " 10  Month            113 non-null    object \n",
            " 11  Duration         111 non-null    float64\n",
            " 12  Ncampaign        113 non-null    object \n",
            " 13  Pdays            113 non-null    int64  \n",
            " 14  Nprevious        113 non-null    int64  \n",
            " 15  Poutcome         113 non-null    object \n",
            " 16  Deposit          113 non-null    object \n",
            " 17  Income           111 non-null    float64\n",
            " 18  Loan_amount      111 non-null    float64\n",
            "dtypes: float64(3), int64(5), object(11)\n",
            "memory usage: 17.7+ KB\n"
          ]
        }
      ],
      "source": [
        "df.info()"
      ]
    },
    {
      "cell_type": "code",
      "execution_count": 349,
      "metadata": {
        "colab": {
          "base_uri": "https://localhost:8080/"
        },
        "id": "GI1vwls9sLbn",
        "outputId": "66b4a270-b367-477b-9203-ddd91f9c355e"
      },
      "outputs": [
        {
          "output_type": "stream",
          "name": "stdout",
          "text": [
            "Bluecollar      26\n",
            "Technician      23\n",
            "Management      19\n",
            "Admin           17\n",
            "Services         8\n",
            "Retired          8\n",
            "Student          6\n",
            "Entrepreneur     4\n",
            "Unemployed       2\n",
            "Name: Customers Job, dtype: int64\n"
          ]
        }
      ],
      "source": [
        "df['Customers Job'] = df['Customers Job'].str.replace('-' , '',regex=True)\n",
        "df['Customers Job'] = df['Customers Job'].str.replace('_' , '',regex=True)\n",
        "df['Customers Job'] = df['Customers Job'].str.replace('.','',regex=True)\n",
        "df['Customers Job'] = df['Customers Job'].str.title()\n",
        "print(df['Customers Job'].value_counts())"
      ]
    },
    {
      "cell_type": "code",
      "execution_count": 350,
      "metadata": {
        "colab": {
          "base_uri": "https://localhost:8080/"
        },
        "id": "rh-JC006epZX",
        "outputId": "8bd62f7d-613f-4dec-d33e-f7beb398befd"
      },
      "outputs": [
        {
          "output_type": "stream",
          "name": "stdout",
          "text": [
            "Married     58\n",
            "Single      42\n",
            "Divorced    13\n",
            "Name: Marital Status, dtype: int64\n"
          ]
        }
      ],
      "source": [
        "df['Marital Status'] = df['Marital Status'].str.title()\n",
        "print(df['Marital Status'].value_counts())"
      ]
    },
    {
      "cell_type": "code",
      "execution_count": 351,
      "metadata": {
        "colab": {
          "base_uri": "https://localhost:8080/"
        },
        "id": "_4neNhWZo31b",
        "outputId": "d15d3adb-9cfa-4ed3-8ee2-580c957b656c"
      },
      "outputs": [
        {
          "output_type": "stream",
          "name": "stdout",
          "text": [
            "Tertiary     60\n",
            "Secondary    38\n",
            "Primary      15\n",
            "Name: Education Level, dtype: int64\n"
          ]
        }
      ],
      "source": [
        "df['Education Level'] = df['Education Level'].str.title()\n",
        "df['Education Level'] = df['Education Level'].str.replace('\"','',regex=True)\n",
        "print(df['Education Level'].value_counts())"
      ]
    },
    {
      "cell_type": "code",
      "execution_count": 352,
      "metadata": {
        "colab": {
          "base_uri": "https://localhost:8080/"
        },
        "id": "6apoEfz0qHby",
        "outputId": "5e78c74e-b4b5-444f-f72b-5a84f0a4b0ea"
      },
      "outputs": [
        {
          "output_type": "execute_result",
          "data": {
            "text/plain": [
              "array(['No'], dtype=object)"
            ]
          },
          "metadata": {},
          "execution_count": 352
        }
      ],
      "source": [
        "df['Credit Card'] = df['Credit Card'].str.title()\n",
        "df['Credit Card'].unique()"
      ]
    },
    {
      "cell_type": "code",
      "execution_count": 353,
      "metadata": {
        "colab": {
          "base_uri": "https://localhost:8080/"
        },
        "id": "NdTc8HnzqRxC",
        "outputId": "76bf4220-e41b-420d-ea01-beac05b3ba8e"
      },
      "outputs": [
        {
          "output_type": "execute_result",
          "data": {
            "text/plain": [
              "ID\n",
              "1      1025\n",
              "2       320\n",
              "3      -120\n",
              "4       452\n",
              "5      -112\n",
              "       ... \n",
              "109    -139\n",
              "110    1231\n",
              "111     344\n",
              "112     589\n",
              "113     155\n",
              "Name: Balance, Length: 113, dtype: int64"
            ]
          },
          "metadata": {},
          "execution_count": 353
        }
      ],
      "source": [
        "df['Balance']"
      ]
    },
    {
      "cell_type": "code",
      "execution_count": 354,
      "metadata": {
        "colab": {
          "base_uri": "https://localhost:8080/"
        },
        "id": "38EDpLo2qtdC",
        "outputId": "fa195d15-20a9-4008-e8a8-192a6790c0a1"
      },
      "outputs": [
        {
          "output_type": "stream",
          "name": "stdout",
          "text": [
            "Yes    73\n",
            "No     40\n",
            "Name: House Loan, dtype: int64\n"
          ]
        }
      ],
      "source": [
        "df['House Loan'] = df['House Loan'].str.title()\n",
        "df['House Loan'] = df['House Loan'].str.replace(' ','',regex=True)\n",
        "print(df['House Loan'].value_counts())"
      ]
    },
    {
      "cell_type": "code",
      "execution_count": 355,
      "metadata": {
        "colab": {
          "base_uri": "https://localhost:8080/"
        },
        "id": "dED4MgInrb7g",
        "outputId": "b4a50973-5805-4b67-e9b7-b5fddc43d344"
      },
      "outputs": [
        {
          "output_type": "stream",
          "name": "stdout",
          "text": [
            "No     109\n",
            "Yes      4\n",
            "Name: Personal Loan, dtype: int64\n"
          ]
        }
      ],
      "source": [
        "df['Personal Loan'] = df['Personal Loan'].str.title()\n",
        "df['Personal Loan'] = df['Personal Loan'].str.replace(' ','',regex=True)\n",
        "print(df['Personal Loan'].value_counts())"
      ]
    },
    {
      "cell_type": "code",
      "execution_count": 356,
      "metadata": {
        "colab": {
          "base_uri": "https://localhost:8080/"
        },
        "id": "yBTYnXN4rkG3",
        "outputId": "dac914b0-82c0-4203-cd3e-9b8d1ae2fb49"
      },
      "outputs": [
        {
          "output_type": "stream",
          "name": "stdout",
          "text": [
            "Cellular     109\n",
            "Telephone      4\n",
            "Name: Contact Type, dtype: int64\n"
          ]
        }
      ],
      "source": [
        "df['Contact Type'] = df['Contact Type'].str.title()\n",
        "df['Contact Type'] = df['Contact Type'].str.replace(' ','',regex=True)\n",
        "print(df['Contact Type'].value_counts())"
      ]
    },
    {
      "cell_type": "code",
      "execution_count": 357,
      "metadata": {
        "colab": {
          "base_uri": "https://localhost:8080/"
        },
        "id": "H7f71Hnxs8-T",
        "outputId": "59423d72-3ffd-432c-9231-daa1fcf8c845"
      },
      "outputs": [
        {
          "output_type": "stream",
          "name": "stdout",
          "text": [
            "ID\n",
            "11   NaN\n",
            "35   NaN\n",
            "Name: Income, dtype: float64\n"
          ]
        }
      ],
      "source": [
        "missing_values = df[\"Income\"].isnull()\n",
        "print(df[\"Income\"][missing_values])"
      ]
    },
    {
      "cell_type": "code",
      "execution_count": 358,
      "metadata": {
        "id": "-k46GgAKul3A"
      },
      "outputs": [],
      "source": [
        "df[\"Income\"] = df[\"Income\"].fillna(0)"
      ]
    },
    {
      "cell_type": "code",
      "execution_count": 359,
      "metadata": {
        "id": "26epab6jvdtg"
      },
      "outputs": [],
      "source": [
        "df[\"Income\"] = df[\"Income\"].astype(\"int\")"
      ]
    },
    {
      "cell_type": "code",
      "execution_count": 360,
      "metadata": {
        "colab": {
          "base_uri": "https://localhost:8080/"
        },
        "id": "Md4Nfm8yvlxI",
        "outputId": "8c274134-50c9-4b1c-d5b9-6a1204aff8f8"
      },
      "outputs": [
        {
          "output_type": "stream",
          "name": "stdout",
          "text": [
            "Mean income for Technicians: 60652.17391304348\n"
          ]
        }
      ],
      "source": [
        "technician_income = df[df[\"Customers Job\"] == \"Technician\"][\"Income\"].mean()\n",
        "print(f\"Mean income for Technicians: {technician_income}\")"
      ]
    },
    {
      "cell_type": "code",
      "execution_count": 361,
      "metadata": {
        "id": "9dhl-xQOv-p6"
      },
      "outputs": [],
      "source": [
        "df.loc[11, \"Income\"] = 60652"
      ]
    },
    {
      "cell_type": "code",
      "source": [
        "technician_income = df[df[\"Customers Job\"] == \"Management\"][\"Income\"].mean()\n",
        "print(f\"Mean income for Management: {technician_income}\")"
      ],
      "metadata": {
        "colab": {
          "base_uri": "https://localhost:8080/"
        },
        "id": "TPwsSrdFw-Gt",
        "outputId": "f0a2b2d6-0401-4e47-d790-cc34a214fd96"
      },
      "execution_count": 362,
      "outputs": [
        {
          "output_type": "stream",
          "name": "stdout",
          "text": [
            "Mean income for Management: 70263.15789473684\n"
          ]
        }
      ]
    },
    {
      "cell_type": "code",
      "source": [
        "df.loc[35, \"Income\"] = 70263"
      ],
      "metadata": {
        "id": "_n38gtaoxJz5"
      },
      "execution_count": 363,
      "outputs": []
    },
    {
      "cell_type": "code",
      "source": [
        "missing_values2 = df[\"Loan_amount\"].isnull()\n",
        "print(df[\"Loan_amount\"][missing_values2])"
      ],
      "metadata": {
        "colab": {
          "base_uri": "https://localhost:8080/"
        },
        "id": "8odnxnm4xZ3t",
        "outputId": "74bc77fd-32fd-4583-84af-e68575c6d44c"
      },
      "execution_count": 364,
      "outputs": [
        {
          "output_type": "stream",
          "name": "stdout",
          "text": [
            "ID\n",
            "11   NaN\n",
            "35   NaN\n",
            "Name: Loan_amount, dtype: float64\n"
          ]
        }
      ]
    },
    {
      "cell_type": "code",
      "source": [
        "df[\"Loan_amount\"] = df[\"Loan_amount\"].fillna(0)"
      ],
      "metadata": {
        "id": "urucebqLyS_7"
      },
      "execution_count": 365,
      "outputs": []
    },
    {
      "cell_type": "code",
      "source": [
        "df[\"Loan_amount\"] = df[\"Loan_amount\"].astype(\"int\")"
      ],
      "metadata": {
        "id": "06mA6SZbynbF"
      },
      "execution_count": 366,
      "outputs": []
    },
    {
      "cell_type": "code",
      "source": [
        "technician_income = df[df[\"Customers Job\"] == \"Technician\"][\"Loan_amount\"].mean()\n",
        "print(f\"Mean loan amount for Technicians: {technician_income}\")"
      ],
      "metadata": {
        "colab": {
          "base_uri": "https://localhost:8080/"
        },
        "id": "crx85zV_yyAz",
        "outputId": "91dd05bf-8f2c-4a29-9177-b65a3563f046"
      },
      "execution_count": 367,
      "outputs": [
        {
          "output_type": "stream",
          "name": "stdout",
          "text": [
            "Mean loan amount for Technicians: 13608.695652173914\n"
          ]
        }
      ]
    },
    {
      "cell_type": "code",
      "source": [
        "df.loc[11, \"Loan_amount\"] = 13609"
      ],
      "metadata": {
        "id": "E9kKrFEqzAK4"
      },
      "execution_count": 368,
      "outputs": []
    },
    {
      "cell_type": "code",
      "source": [
        "technician_income = df[df[\"Customers Job\"] == \"Management\"][\"Loan_amount\"].mean()\n",
        "print(f\"Mean loan amount for Management: {technician_income}\")"
      ],
      "metadata": {
        "colab": {
          "base_uri": "https://localhost:8080/"
        },
        "id": "1HyGNq5FzL4R",
        "outputId": "a0d3ff39-ed90-4b11-88ca-99ab835a6bf8"
      },
      "execution_count": 369,
      "outputs": [
        {
          "output_type": "stream",
          "name": "stdout",
          "text": [
            "Mean loan amount for Management: 16947.36842105263\n"
          ]
        }
      ]
    },
    {
      "cell_type": "code",
      "source": [
        "df.loc[35, \"Loan_amount\"] = 16947"
      ],
      "metadata": {
        "id": "R4CqGbWJzVZ0"
      },
      "execution_count": 370,
      "outputs": []
    },
    {
      "cell_type": "code",
      "source": [
        "df.info()"
      ],
      "metadata": {
        "id": "Qh_uQ0WV2N5D",
        "colab": {
          "base_uri": "https://localhost:8080/"
        },
        "outputId": "ef095ec4-23b6-4e4b-db85-95b2039db80e"
      },
      "execution_count": 371,
      "outputs": [
        {
          "output_type": "stream",
          "name": "stdout",
          "text": [
            "<class 'pandas.core.frame.DataFrame'>\n",
            "Int64Index: 113 entries, 1 to 113\n",
            "Data columns (total 19 columns):\n",
            " #   Column           Non-Null Count  Dtype  \n",
            "---  ------           --------------  -----  \n",
            " 0   Customers Age    113 non-null    int64  \n",
            " 1   Customers Job    113 non-null    object \n",
            " 2   Marital Status   113 non-null    object \n",
            " 3   Education Level  113 non-null    object \n",
            " 4   Credit Card      113 non-null    object \n",
            " 5   Balance          113 non-null    int64  \n",
            " 6   House Loan       113 non-null    object \n",
            " 7   Personal Loan    113 non-null    object \n",
            " 8   Contact Type     113 non-null    object \n",
            " 9   Day              113 non-null    int64  \n",
            " 10  Month            113 non-null    object \n",
            " 11  Duration         111 non-null    float64\n",
            " 12  Ncampaign        113 non-null    object \n",
            " 13  Pdays            113 non-null    int64  \n",
            " 14  Nprevious        113 non-null    int64  \n",
            " 15  Poutcome         113 non-null    object \n",
            " 16  Deposit          113 non-null    object \n",
            " 17  Income           113 non-null    int64  \n",
            " 18  Loan_amount      113 non-null    int64  \n",
            "dtypes: float64(1), int64(7), object(11)\n",
            "memory usage: 21.7+ KB\n"
          ]
        }
      ]
    },
    {
      "cell_type": "code",
      "source": [
        "df[\"Month\"] = df[\"Month\"].str.replace(\"April\", \"Apr\")\n",
        "df[\"Month\"] = df[\"Month\"].str.replace(\"November\",\"Nov\")\n",
        "df[\"Month\"] = df[\"Month\"].str.replace(\"July\",\"Jul\")\n",
        "df[\"Month\"]= df[\"Month\"].str.title()\n",
        "df[\"Month\"].unique()\n"
      ],
      "metadata": {
        "colab": {
          "base_uri": "https://localhost:8080/"
        },
        "id": "KiB0OBkc49HE",
        "outputId": "cb5522e1-47ae-4b73-f06a-1ea3eb809a43"
      },
      "execution_count": 372,
      "outputs": [
        {
          "output_type": "execute_result",
          "data": {
            "text/plain": [
              "array(['May', 'Jun', 'Nov', 'Jul', 'Aug', 'Feb', 'Jan', 'Apr', 'Sep',\n",
              "       'Mar', 'Oct'], dtype=object)"
            ]
          },
          "metadata": {},
          "execution_count": 372
        }
      ]
    },
    {
      "cell_type": "code",
      "source": [
        "df[\"Duration\"].mean().astype(int)\n",
        "df[\"Duration\"]= df[\"Duration\"].fillna(204)\n",
        "df[\"Duration\"]=df[\"Duration\"].astype(int)"
      ],
      "metadata": {
        "id": "hrISI83y49w5"
      },
      "execution_count": 373,
      "outputs": []
    },
    {
      "cell_type": "code",
      "source": [
        "df[\"Ncampaign\"]=df[\"Ncampaign\"].replace(\"2,0\",\"2\")\n",
        "df[\"Ncampaign\"]=df[\"Ncampaign\"].replace(\"3,0\",\"3\")\n",
        "df[\"Ncampaign\"]=df[\"Ncampaign\"].replace(\"1,0\",\"1\")\n",
        "df[\"Ncampaign\"]=df[\"Ncampaign\"].astype(int)"
      ],
      "metadata": {
        "id": "u4e4KcXm5Cu0"
      },
      "execution_count": 374,
      "outputs": []
    },
    {
      "cell_type": "code",
      "source": [
        "df[\"Poutcome\"]= df[\"Poutcome\"].str.title()\n",
        "df['Poutcome'].unique()"
      ],
      "metadata": {
        "colab": {
          "base_uri": "https://localhost:8080/"
        },
        "id": "ifd3EKQx5FSK",
        "outputId": "cf2ce317-0812-4fda-e070-296a0ff5945b"
      },
      "execution_count": 375,
      "outputs": [
        {
          "output_type": "execute_result",
          "data": {
            "text/plain": [
              "array(['Success', 'Unknown', 'Failure'], dtype=object)"
            ]
          },
          "metadata": {},
          "execution_count": 375
        }
      ]
    },
    {
      "cell_type": "code",
      "source": [
        "df[\"Deposit\"]=df[\"Deposit\"].str.title()\n",
        "df['Deposit'].unique()"
      ],
      "metadata": {
        "colab": {
          "base_uri": "https://localhost:8080/"
        },
        "id": "ruCXNxvC5Hd7",
        "outputId": "2bb33d2d-263d-46f6-cda7-61da371c461d"
      },
      "execution_count": 376,
      "outputs": [
        {
          "output_type": "execute_result",
          "data": {
            "text/plain": [
              "array(['Yes', 'No'], dtype=object)"
            ]
          },
          "metadata": {},
          "execution_count": 376
        }
      ]
    },
    {
      "cell_type": "code",
      "source": [
        "df.info()"
      ],
      "metadata": {
        "colab": {
          "base_uri": "https://localhost:8080/"
        },
        "id": "_MUjkpel5KqG",
        "outputId": "c7accc65-6173-4d1d-863a-e2efdc2a87ac"
      },
      "execution_count": 377,
      "outputs": [
        {
          "output_type": "stream",
          "name": "stdout",
          "text": [
            "<class 'pandas.core.frame.DataFrame'>\n",
            "Int64Index: 113 entries, 1 to 113\n",
            "Data columns (total 19 columns):\n",
            " #   Column           Non-Null Count  Dtype \n",
            "---  ------           --------------  ----- \n",
            " 0   Customers Age    113 non-null    int64 \n",
            " 1   Customers Job    113 non-null    object\n",
            " 2   Marital Status   113 non-null    object\n",
            " 3   Education Level  113 non-null    object\n",
            " 4   Credit Card      113 non-null    object\n",
            " 5   Balance          113 non-null    int64 \n",
            " 6   House Loan       113 non-null    object\n",
            " 7   Personal Loan    113 non-null    object\n",
            " 8   Contact Type     113 non-null    object\n",
            " 9   Day              113 non-null    int64 \n",
            " 10  Month            113 non-null    object\n",
            " 11  Duration         113 non-null    int64 \n",
            " 12  Ncampaign        113 non-null    int64 \n",
            " 13  Pdays            113 non-null    int64 \n",
            " 14  Nprevious        113 non-null    int64 \n",
            " 15  Poutcome         113 non-null    object\n",
            " 16  Deposit          113 non-null    object\n",
            " 17  Income           113 non-null    int64 \n",
            " 18  Loan_amount      113 non-null    int64 \n",
            "dtypes: int64(9), object(10)\n",
            "memory usage: 21.7+ KB\n"
          ]
        }
      ]
    },
    {
      "cell_type": "code",
      "source": [
        "df[\"Day\"] = df[\"Day\"].astype(str)"
      ],
      "metadata": {
        "id": "QqJqZbgx63Fj"
      },
      "execution_count": 378,
      "outputs": []
    },
    {
      "cell_type": "code",
      "source": [
        "df[\"Date\"] = df[\"Month\"] + \"-\" + df[\"Day\"]"
      ],
      "metadata": {
        "id": "8RGM8OEQ6XhJ"
      },
      "execution_count": 379,
      "outputs": []
    },
    {
      "cell_type": "code",
      "source": [
        "df.pop(\"Day\")"
      ],
      "metadata": {
        "colab": {
          "base_uri": "https://localhost:8080/"
        },
        "id": "0gaWAaRl7Tx1",
        "outputId": "67ec1723-d002-4e28-9122-c06221b8fe13"
      },
      "execution_count": 380,
      "outputs": [
        {
          "output_type": "execute_result",
          "data": {
            "text/plain": [
              "ID\n",
              "1      12\n",
              "2       8\n",
              "3      16\n",
              "4      30\n",
              "5      14\n",
              "       ..\n",
              "109     6\n",
              "110    29\n",
              "111    14\n",
              "112     6\n",
              "113    13\n",
              "Name: Day, Length: 113, dtype: object"
            ]
          },
          "metadata": {},
          "execution_count": 380
        }
      ]
    },
    {
      "cell_type": "code",
      "source": [
        "df.pop(\"Credit Card\")#Due to all of the data is no we deleted it"
      ],
      "metadata": {
        "colab": {
          "base_uri": "https://localhost:8080/"
        },
        "id": "u2BFOEXJ8j1O",
        "outputId": "edf46569-809e-46c8-df90-5bdd68c57e08"
      },
      "execution_count": 381,
      "outputs": [
        {
          "output_type": "execute_result",
          "data": {
            "text/plain": [
              "ID\n",
              "1      No\n",
              "2      No\n",
              "3      No\n",
              "4      No\n",
              "5      No\n",
              "       ..\n",
              "109    No\n",
              "110    No\n",
              "111    No\n",
              "112    No\n",
              "113    No\n",
              "Name: Credit Card, Length: 113, dtype: object"
            ]
          },
          "metadata": {},
          "execution_count": 381
        }
      ]
    },
    {
      "cell_type": "code",
      "source": [
        "df.info()"
      ],
      "metadata": {
        "colab": {
          "base_uri": "https://localhost:8080/"
        },
        "id": "OrZSMabc6_Zv",
        "outputId": "b81951ed-cc36-4d61-c578-a987ed2c8959"
      },
      "execution_count": 382,
      "outputs": [
        {
          "output_type": "stream",
          "name": "stdout",
          "text": [
            "<class 'pandas.core.frame.DataFrame'>\n",
            "Int64Index: 113 entries, 1 to 113\n",
            "Data columns (total 18 columns):\n",
            " #   Column           Non-Null Count  Dtype \n",
            "---  ------           --------------  ----- \n",
            " 0   Customers Age    113 non-null    int64 \n",
            " 1   Customers Job    113 non-null    object\n",
            " 2   Marital Status   113 non-null    object\n",
            " 3   Education Level  113 non-null    object\n",
            " 4   Balance          113 non-null    int64 \n",
            " 5   House Loan       113 non-null    object\n",
            " 6   Personal Loan    113 non-null    object\n",
            " 7   Contact Type     113 non-null    object\n",
            " 8   Month            113 non-null    object\n",
            " 9   Duration         113 non-null    int64 \n",
            " 10  Ncampaign        113 non-null    int64 \n",
            " 11  Pdays            113 non-null    int64 \n",
            " 12  Nprevious        113 non-null    int64 \n",
            " 13  Poutcome         113 non-null    object\n",
            " 14  Deposit          113 non-null    object\n",
            " 15  Income           113 non-null    int64 \n",
            " 16  Loan_amount      113 non-null    int64 \n",
            " 17  Date             113 non-null    object\n",
            "dtypes: int64(8), object(10)\n",
            "memory usage: 20.8+ KB\n"
          ]
        }
      ]
    },
    {
      "cell_type": "code",
      "source": [
        "((df['Balance'] - df['Balance'].mean()) / df['Balance'].std()).sort_values()"
      ],
      "metadata": {
        "colab": {
          "base_uri": "https://localhost:8080/"
        },
        "id": "nacgR0SX-OkR",
        "outputId": "08d4da13-0f5b-4804-ce43-3321111d8524"
      },
      "execution_count": 383,
      "outputs": [
        {
          "output_type": "execute_result",
          "data": {
            "text/plain": [
              "ID\n",
              "103   -1.450952\n",
              "58    -1.450952\n",
              "86    -1.355418\n",
              "56    -1.344803\n",
              "109   -1.344803\n",
              "         ...   \n",
              "14     1.657087\n",
              "13     1.718654\n",
              "33     1.718654\n",
              "93     1.805696\n",
              "92     3.251443\n",
              "Name: Balance, Length: 113, dtype: float64"
            ]
          },
          "metadata": {},
          "execution_count": 383
        }
      ]
    },
    {
      "cell_type": "code",
      "source": [
        "df['Balance'].mean().astype(int)"
      ],
      "metadata": {
        "colab": {
          "base_uri": "https://localhost:8080/"
        },
        "id": "LpmY7Zsh_52-",
        "outputId": "d8d86e40-3470-4a54-dbd4-c7177248df63"
      },
      "execution_count": 384,
      "outputs": [
        {
          "output_type": "execute_result",
          "data": {
            "text/plain": [
              "494"
            ]
          },
          "metadata": {},
          "execution_count": 384
        }
      ]
    },
    {
      "cell_type": "code",
      "source": [
        "df.loc[92, \"Balance\"] = 494"
      ],
      "metadata": {
        "id": "G9fCuETh_sn9"
      },
      "execution_count": 385,
      "outputs": []
    },
    {
      "cell_type": "code",
      "source": [
        "((df['Loan_amount'] - df['Loan_amount'].mean()) / df['Loan_amount'].std()).sort_values()"
      ],
      "metadata": {
        "colab": {
          "base_uri": "https://localhost:8080/"
        },
        "id": "oAxzR8zYA6IT",
        "outputId": "98a78ff5-e588-4008-8c5e-39fc0f573900"
      },
      "execution_count": 387,
      "outputs": [
        {
          "output_type": "execute_result",
          "data": {
            "text/plain": [
              "ID\n",
              "53    -1.685464\n",
              "106   -1.685464\n",
              "46    -1.507558\n",
              "58    -1.329653\n",
              "2     -1.329653\n",
              "         ...   \n",
              "105    1.694734\n",
              "69     1.872639\n",
              "112    1.872639\n",
              "92     2.228449\n",
              "42     2.228449\n",
              "Name: Loan_amount, Length: 113, dtype: float64"
            ]
          },
          "metadata": {},
          "execution_count": 386
        },
        {
          "output_type": "execute_result",
          "data": {
            "text/plain": [
              "ID\n",
              "53    -1.685464\n",
              "106   -1.685464\n",
              "46    -1.507558\n",
              "58    -1.329653\n",
              "2     -1.329653\n",
              "         ...   \n",
              "105    1.694734\n",
              "69     1.872639\n",
              "112    1.872639\n",
              "92     2.228449\n",
              "42     2.228449\n",
              "Name: Loan_amount, Length: 113, dtype: float64"
            ]
          },
          "metadata": {},
          "execution_count": 387
        }
      ]
    },
    {
      "cell_type": "code",
      "source": [
        "((df['Income'] - df['Income'].mean()) / df['Income'].std()).sort_values()"
      ],
      "metadata": {
        "colab": {
          "base_uri": "https://localhost:8080/"
        },
        "id": "WAnzvF_UBEHc",
        "outputId": "9ddaf149-4947-4b49-9cf8-527ddd38c8d0"
      },
      "execution_count": 388,
      "outputs": [
        {
          "output_type": "execute_result",
          "data": {
            "text/plain": [
              "ID\n",
              "36    -1.821285\n",
              "16    -1.821285\n",
              "106   -1.821285\n",
              "53    -1.821285\n",
              "46    -1.695676\n",
              "         ...   \n",
              "84     1.632966\n",
              "42     1.946989\n",
              "69     1.946989\n",
              "92     1.946989\n",
              "112    1.946989\n",
              "Name: Income, Length: 113, dtype: float64"
            ]
          },
          "metadata": {},
          "execution_count": 388
        }
      ]
    },
    {
      "cell_type": "code",
      "source": [
        "((df['Duration'] - df['Duration'].mean()) / df['Duration'].std()).sort_values()"
      ],
      "metadata": {
        "colab": {
          "base_uri": "https://localhost:8080/"
        },
        "id": "h3pxvxgoBP8A",
        "outputId": "df7f9811-67c3-4072-a666-332ee528eb06"
      },
      "execution_count": 389,
      "outputs": [
        {
          "output_type": "execute_result",
          "data": {
            "text/plain": [
              "ID\n",
              "36   -1.750564\n",
              "16   -1.750564\n",
              "83   -1.622138\n",
              "73   -1.545083\n",
              "91   -1.506555\n",
              "        ...   \n",
              "9     1.768293\n",
              "21    2.063672\n",
              "1     2.063672\n",
              "77    2.371893\n",
              "49    2.461791\n",
              "Name: Duration, Length: 113, dtype: float64"
            ]
          },
          "metadata": {},
          "execution_count": 389
        }
      ]
    }
  ],
  "metadata": {
    "colab": {
      "provenance": []
    },
    "kernelspec": {
      "display_name": "Python 3",
      "name": "python3"
    },
    "language_info": {
      "name": "python"
    }
  },
  "nbformat": 4,
  "nbformat_minor": 0
}